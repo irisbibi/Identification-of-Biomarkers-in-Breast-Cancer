{
 "cells": [
  {
   "cell_type": "code",
   "execution_count": null,
   "metadata": {},
   "outputs": [],
   "source": [
    "import numpy as np\n",
    "import pandas as pd\n",
    "from scipy.cluster.hierarchy import dendrogram, linkage, is_valid_linkage\n",
    "from scipy.cluster.hierarchy import inconsistent\n",
    "from sklearn.cluster import AgglomerativeClustering\n",
    "from scipy.cluster.hierarchy import fcluster\n",
    "from matplotlib import pyplot as plt\n",
    "from sklearn.decomposition import PCA\n",
    "import seaborn as sns"
   ]
  },
  {
   "cell_type": "code",
   "execution_count": null,
   "metadata": {},
   "outputs": [],
   "source": [
    "df = pd.read_csv(\"log2.csv\")"
   ]
  },
  {
   "cell_type": "code",
   "execution_count": null,
   "metadata": {},
   "outputs": [],
   "source": [
    "test = df.to_numpy()"
   ]
  },
  {
   "cell_type": "code",
   "execution_count": null,
   "metadata": {},
   "outputs": [],
   "source": [
    "disease_state = test[0][1:]"
   ]
  },
  {
   "cell_type": "code",
   "execution_count": null,
   "metadata": {},
   "outputs": [],
   "source": [
    "genename = test[:,0][1:]"
   ]
  },
  {
   "cell_type": "code",
   "execution_count": null,
   "metadata": {},
   "outputs": [],
   "source": [
    "exp = test[1:,1:]"
   ]
  },
  {
   "cell_type": "code",
   "execution_count": null,
   "metadata": {},
   "outputs": [],
   "source": [
    "test_df = pd.DataFrame(exp)"
   ]
  },
  {
   "cell_type": "code",
   "execution_count": null,
   "metadata": {},
   "outputs": [],
   "source": [
    "g = sns.clustermap(test_df.astype(float), method=\"average\")\n",
    "plt.savefig(\"hier_average.png\", dpi=500)"
   ]
  },
  {
   "cell_type": "code",
   "execution_count": null,
   "metadata": {},
   "outputs": [],
   "source": [
    "Z = linkage(test_df, 'average')\n",
    "plt.figure(figsize=(50,30), dpi=500)\n",
    "n = dendrogram(Z)\n",
    "plt.savefig(\"outlier_drop_4.png\")\n"
   ]
  },
  {
   "cell_type": "code",
   "execution_count": null,
   "metadata": {},
   "outputs": [],
   "source": [
    "\n",
    "df = pd.read_csv(\"Tumor_deg.csv\")\n",
    "exp = df.to_numpy()\n",
    "genename = exp[:,0]\n",
    "data = exp[:,1:]\n"
   ]
  },
  {
   "cell_type": "code",
   "execution_count": null,
   "metadata": {},
   "outputs": [],
   "source": [
    "pca = PCA(5)\n",
    "exp_trans = pca.fit_transform(test)"
   ]
  },
  {
   "cell_type": "code",
   "execution_count": null,
   "metadata": {},
   "outputs": [],
   "source": [
    "Z = linkage(exp, 'centroid')\n",
    "# plt.figure(figsize=(25,10))\n",
    "# dn = dendrogram(Z)\n",
    "# plt.savefig(\"test.png\", dpi=500)"
   ]
  },
  {
   "cell_type": "code",
   "execution_count": null,
   "metadata": {},
   "outputs": [],
   "source": [
    "last = Z[-15:,2]\n",
    "last_rev = last[::-1]\n",
    "idxs = np.arange(1, len(last)+1)\n",
    "plt.figure(figsize=(15,10), dpi=500)\n",
    "plt.plot(idxs, last_rev, label='distance')\n",
    "acc = np.diff(last, 2)\n",
    "acc_rev = acc[::-1]\n",
    "plt.plot(idxs[:-2]+1, acc_rev, label='acceleration')\n",
    "plt.xlabel('steps', fontsize=30)\n",
    "plt.ylabel('distance', fontsize=30)\n",
    "plt.title(\"Num of cluster selection based on elbow method: \"+str(acc_rev.argmax() + 2), fontsize=30)\n",
    "plt.xticks(fontsize=30)\n",
    "plt.yticks(fontsize=30)\n",
    "plt.legend(fontsize=30)\n",
    "plt.savefig('elbow_hier.png',dpi=500)\n",
    "plt.close()"
   ]
  },
  {
   "cell_type": "code",
   "execution_count": null,
   "metadata": {},
   "outputs": [],
   "source": [
    "knum = 4\n",
    "label = fcluster(Z, knum, criterion=\"maxclust\")"
   ]
  },
  {
   "cell_type": "code",
   "execution_count": null,
   "metadata": {},
   "outputs": [],
   "source": [
    "for i in range(knum):\t\n",
    "\tprint(sum(label==(i+1)))"
   ]
  },
  {
   "cell_type": "code",
   "execution_count": null,
   "metadata": {},
   "outputs": [],
   "source": [
    "cluster = AgglomerativeClustering(n_clusters=4, affinity='euclidean', linkage='average')"
   ]
  },
  {
   "cell_type": "code",
   "execution_count": null,
   "metadata": {},
   "outputs": [],
   "source": [
    "cluster.fit_predict(exp)\n",
    "print(cluster.labels_)"
   ]
  },
  {
   "cell_type": "code",
   "execution_count": null,
   "metadata": {},
   "outputs": [],
   "source": [
    "f = exp[cluster.labels_ == 0,:]"
   ]
  },
  {
   "cell_type": "code",
   "execution_count": null,
   "metadata": {},
   "outputs": [],
   "source": [
    "f.shape"
   ]
  }
 ],
 "metadata": {
  "interpreter": {
   "hash": "266d6b1e6dca02c5b24218f4a593dc28e365fb8f0c50342fb209ba39c1b278d9"
  },
  "kernelspec": {
   "display_name": "Python 3.9.7 ('ml39')",
   "language": "python",
   "name": "python3"
  },
  "language_info": {
   "codemirror_mode": {
    "name": "ipython",
    "version": 3
   },
   "file_extension": ".py",
   "mimetype": "text/x-python",
   "name": "python",
   "nbconvert_exporter": "python",
   "pygments_lexer": "ipython3",
   "version": "3.9.7"
  },
  "orig_nbformat": 4
 },
 "nbformat": 4,
 "nbformat_minor": 2
}
