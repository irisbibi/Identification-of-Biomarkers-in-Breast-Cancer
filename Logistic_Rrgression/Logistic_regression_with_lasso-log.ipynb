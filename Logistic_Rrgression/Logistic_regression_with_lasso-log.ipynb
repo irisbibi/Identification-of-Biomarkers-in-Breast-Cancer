{
 "cells": [
  {
   "cell_type": "code",
   "execution_count": 3,
   "id": "30c2e8c9",
   "metadata": {},
   "outputs": [],
   "source": [
    "import pandas as pd\n",
    "import numpy as np\n",
    "from matplotlib import pyplot as plt\n",
    "from sklearn.model_selection import train_test_split\n",
    "from sklearn.metrics import accuracy_score, f1_score\n",
    "from sklearn.metrics import roc_curve\n",
    "from sklearn.metrics import auc\n",
    "import pylab as pl\n",
    "from sklearn.model_selection import cross_val_score\n",
    "from sklearn.model_selection import KFold\n",
    "from sklearn import metrics\n",
    "import seaborn as sns\n",
    "from sklearn.metrics import confusion_matrix\n",
    "from sklearn.metrics import f1_score"
   ]
  },
  {
   "cell_type": "code",
   "execution_count": 4,
   "id": "3663ed65",
   "metadata": {},
   "outputs": [],
   "source": [
    "def generate_training_testing_set(x, y):\n",
    "    x_train, x_test, y_train, y_test = train_test_split(x, y, test_size=0.2, random_state=42)\n",
    "    x_train = x_train.T\n",
    "    x_test = x_test.T\n",
    "    y_train = y_train.T\n",
    "    y_test = y_test.T\n",
    "    return x_train, x_test, y_train, y_test"
   ]
  },
  {
   "cell_type": "code",
   "execution_count": 5,
   "id": "705328cd",
   "metadata": {},
   "outputs": [],
   "source": [
    "def sigmoid(y):\n",
    "    s = 1.0 / (1.0 + np.exp(-y))\n",
    "    return s"
   ]
  },
  {
   "cell_type": "code",
   "execution_count": 6,
   "id": "0f972dda",
   "metadata": {},
   "outputs": [],
   "source": [
    "def logLoss(y_true, y_pred, eps=1e-15):\n",
    "    y_true = np.array(y_true)\n",
    "    y_pred = np.array(y_pred)\n",
    "    assert (len(y_true) and len(y_true) == len(y_pred))\n",
    "    p = np.clip(y_pred, eps, 1 - eps)\n",
    "    loss = np.sum(- y_true * np.log(p) - (1 - y_true) * np.log(1 - p))\n",
    "    loss = loss / len(y_true)\n",
    "#     print(\"loss is\", loss)\n",
    "    return loss"
   ]
  },
  {
   "cell_type": "code",
   "execution_count": 7,
   "id": "12d77f24",
   "metadata": {},
   "outputs": [],
   "source": [
    "def cost(xMat, weights, w0, yMat):\n",
    "    hypothesis = sigmoid(np.dot(xMat, weights) + w0)  #predicted_y\n",
    "    cs2 = logLoss(yMat, hypothesis) # calculate cost by using log loss\n",
    "    return cs2"
   ]
  },
  {
   "cell_type": "code",
   "execution_count": 8,
   "id": "174f4b25",
   "metadata": {},
   "outputs": [],
   "source": [
    "def linear_regression_model(x, y_true, maxEpochs=10000, lr=0.1, lamb=1, penalty='L1'):\n",
    "    # initialize parameters\n",
    "    # w, w0 = initialize_parameter(x)\n",
    "    l_list = []\n",
    "    epochCount = 0\n",
    "    xMat = np.mat(x).T\n",
    "    yMat = np.mat(y_true).T\n",
    "    m, n = xMat.shape\n",
    "    \n",
    "    #initialize parameter\n",
    "    weight = np.ones((n, 1))\n",
    "    best_weight = None\n",
    "    best_w0 = None\n",
    "    w0 = 0\n",
    "    epochList = []\n",
    "    for i in range(maxEpochs):\n",
    "        loss = cost(xMat, weight, w0, yMat)  # calculate the loss last time\n",
    "        y_pred = sigmoid(np.dot(xMat, weight) + w0)  \n",
    "        error = y_pred - yMat  # error\n",
    "        grad = (1.0 / m) * np.dot(xMat.T, error) # gradient\n",
    "        if penalty == 'L2':\n",
    "            grad = grad + lamb *weight\n",
    "        elif penalty == 'L1':\n",
    "            grad = grad + lamb * np.sign(weight)\n",
    "            \n",
    "        # update parameter\n",
    "        w0 = (1.0 / m) * np.sum(error) \n",
    "        weight = weight - lr * grad  \n",
    "        loss_new = cost(xMat, weight, w0,  yMat)  # calculate current loss\n",
    "        if loss_new < loss:\n",
    "            best_weight = weight\n",
    "            best_w0 = w0\n",
    "        epochCount += 1\n",
    "        l_list.append(loss_new)\n",
    "        epochList.append(epochCount)\n",
    "\n",
    "\n",
    "    plt.plot(epochList, l_list)\n",
    "    plt.xlabel('epochs')\n",
    "    plt.ylabel('loss')\n",
    "    plt.show()\n",
    "#     print(\"best weight: \", best_weight)\n",
    "#     print(\"best w0 :\", best_w0)\n",
    "\n",
    "    return l_list, best_weight, best_w0"
   ]
  },
  {
   "cell_type": "code",
   "execution_count": 9,
   "id": "4e5a7bbf",
   "metadata": {},
   "outputs": [],
   "source": [
    "def draw_roc_curve(fpr, tpr):\n",
    "    plt.plot(fpr, tpr, label='ROC (area = {0:.2f})'.format(roc_auc),color='#9900F0')\n",
    "    plt.xlim([-0.05, 1.05])  # 设置x、y轴的上下限，以免和边缘重合，更好的观察图像的整体\n",
    "    plt.ylim([-0.05, 1.05])\n",
    "    plt.plot([0, 1], [0, 1], 'r--',label='random guess',color='#FF85B3')\n",
    "    plt.fill_between(fpr,tpr,y2=0,facecolor='#FFEEEE')\n",
    "    plt.xlabel('False Positive Rate')\n",
    "    plt.ylabel('True Positive Rate')  # 可以使用中文，但需要导入一些库即字体\n",
    "    plt.title('ROC Curve')\n",
    "    plt.legend(loc=\"lower right\")\n",
    "    plt.savefig('roc.png', dpi = 300)\n",
    "    plt.show()\n",
    "    "
   ]
  },
  {
   "cell_type": "code",
   "execution_count": 10,
   "id": "68497b95",
   "metadata": {},
   "outputs": [],
   "source": [
    "def draw_tpr_1_fpr(fpr, tpr):\n",
    "    fig, ax = pl.subplots()\n",
    "    pl.plot(roc['tpr'])\n",
    "    pl.plot(roc['1-fpr'], color = 'red')\n",
    "    pl.xlabel('1-False Positive Rate')\n",
    "    pl.ylabel('True Positive Rate')\n",
    "    pl.title('Receiver operating characteristic')\n",
    "    ax.set_xticklabels([])"
   ]
  },
  {
   "cell_type": "code",
   "execution_count": 11,
   "id": "bde859ac",
   "metadata": {},
   "outputs": [
    {
     "name": "stdout",
     "output_type": "stream",
     "text": [
      "original data type: (809, 798)\n",
      "shape of data_without_geneName (809, 797)\n",
      "shape of data_transpose (797, 809)\n",
      "shape of y (797,)\n",
      "shape of x (797, 808)\n",
      "shape of x_train (808, 637)\n",
      "shape of y_train (637,)\n"
     ]
    },
    {
     "data": {
      "text/html": [
       "<div>\n",
       "<style scoped>\n",
       "    .dataframe tbody tr th:only-of-type {\n",
       "        vertical-align: middle;\n",
       "    }\n",
       "\n",
       "    .dataframe tbody tr th {\n",
       "        vertical-align: top;\n",
       "    }\n",
       "\n",
       "    .dataframe thead th {\n",
       "        text-align: right;\n",
       "    }\n",
       "</style>\n",
       "<table border=\"1\" class=\"dataframe\">\n",
       "  <thead>\n",
       "    <tr style=\"text-align: right;\">\n",
       "      <th></th>\n",
       "      <th>geneName</th>\n",
       "      <th>TCGA-A2-A0EM-01A-11R-A034-07</th>\n",
       "      <th>TCGA-A2-A0T6-01A-11R-A084-07</th>\n",
       "      <th>TCGA-BH-A0B7-01A-12R-A115-07</th>\n",
       "      <th>TCGA-E2-A15E-06A-11R-A12D-07</th>\n",
       "      <th>TCGA-EW-A1P4-01A-21R-A144-07</th>\n",
       "      <th>TCGA-E2-A3DX-01A-21R-A213-07</th>\n",
       "      <th>TCGA-E2-A153-01A-12R-A12D-07</th>\n",
       "      <th>TCGA-E2-A14Q-01A-11R-A12D-07</th>\n",
       "      <th>TCGA-A2-A0CZ-01A-11R-A034-07</th>\n",
       "      <th>...</th>\n",
       "      <th>TCGA-BH-A0AY-11A-23R-A089-07</th>\n",
       "      <th>TCGA-BH-A0DZ-11A-22R-A089-07</th>\n",
       "      <th>TCGA-E9-A1R7-11A-42R-A14M-07</th>\n",
       "      <th>TCGA-A7-A13G-11A-51R-A13Q-07</th>\n",
       "      <th>TCGA-A7-A0D9-11A-53R-A089-07</th>\n",
       "      <th>TCGA-BH-A0C3-11A-23R-A12P-07</th>\n",
       "      <th>TCGA-BH-A0H5-11A-62R-A115-07</th>\n",
       "      <th>TCGA-AC-A23H-11A-12R-A157-07</th>\n",
       "      <th>TCGA-BH-A1F2-11A-32R-A13Q-07</th>\n",
       "      <th>TCGA-A7-A0DC-11A-41R-A089-07</th>\n",
       "    </tr>\n",
       "  </thead>\n",
       "  <tbody>\n",
       "    <tr>\n",
       "      <th>0</th>\n",
       "      <td>Disease_state</td>\n",
       "      <td>1.000000</td>\n",
       "      <td>1.000000</td>\n",
       "      <td>1.000000</td>\n",
       "      <td>1.000000</td>\n",
       "      <td>1.000000</td>\n",
       "      <td>1.000000</td>\n",
       "      <td>1.000000</td>\n",
       "      <td>1.000000</td>\n",
       "      <td>1.000000</td>\n",
       "      <td>...</td>\n",
       "      <td>0.000000</td>\n",
       "      <td>0.000000</td>\n",
       "      <td>0.000000</td>\n",
       "      <td>0.000000</td>\n",
       "      <td>0.000000</td>\n",
       "      <td>0.000000</td>\n",
       "      <td>0.000000</td>\n",
       "      <td>0.000000</td>\n",
       "      <td>0.000000</td>\n",
       "      <td>0.000000</td>\n",
       "    </tr>\n",
       "    <tr>\n",
       "      <th>1</th>\n",
       "      <td>ENSG00000002726.18</td>\n",
       "      <td>0.370249</td>\n",
       "      <td>1.365058</td>\n",
       "      <td>1.775361</td>\n",
       "      <td>1.296699</td>\n",
       "      <td>1.717995</td>\n",
       "      <td>0.318669</td>\n",
       "      <td>0.377462</td>\n",
       "      <td>0.214963</td>\n",
       "      <td>0.644008</td>\n",
       "      <td>...</td>\n",
       "      <td>0.239368</td>\n",
       "      <td>1.042361</td>\n",
       "      <td>0.399763</td>\n",
       "      <td>0.025890</td>\n",
       "      <td>1.009970</td>\n",
       "      <td>0.396546</td>\n",
       "      <td>0.481502</td>\n",
       "      <td>0.425767</td>\n",
       "      <td>0.356691</td>\n",
       "      <td>0.353923</td>\n",
       "    </tr>\n",
       "    <tr>\n",
       "      <th>2</th>\n",
       "      <td>ENSG00000004838.12</td>\n",
       "      <td>4.770693</td>\n",
       "      <td>4.030199</td>\n",
       "      <td>3.727517</td>\n",
       "      <td>3.232234</td>\n",
       "      <td>1.238163</td>\n",
       "      <td>3.955585</td>\n",
       "      <td>4.509768</td>\n",
       "      <td>5.647388</td>\n",
       "      <td>0.587249</td>\n",
       "      <td>...</td>\n",
       "      <td>2.725260</td>\n",
       "      <td>3.429190</td>\n",
       "      <td>0.696746</td>\n",
       "      <td>0.520637</td>\n",
       "      <td>0.710716</td>\n",
       "      <td>2.266653</td>\n",
       "      <td>1.795877</td>\n",
       "      <td>0.990555</td>\n",
       "      <td>1.118175</td>\n",
       "      <td>1.606685</td>\n",
       "    </tr>\n",
       "    <tr>\n",
       "      <th>3</th>\n",
       "      <td>ENSG00000007968.6</td>\n",
       "      <td>2.383093</td>\n",
       "      <td>1.125585</td>\n",
       "      <td>3.341985</td>\n",
       "      <td>2.179594</td>\n",
       "      <td>5.156368</td>\n",
       "      <td>1.846146</td>\n",
       "      <td>0.961257</td>\n",
       "      <td>2.594389</td>\n",
       "      <td>1.167293</td>\n",
       "      <td>...</td>\n",
       "      <td>1.310282</td>\n",
       "      <td>2.415891</td>\n",
       "      <td>0.929533</td>\n",
       "      <td>0.445893</td>\n",
       "      <td>0.534051</td>\n",
       "      <td>2.622123</td>\n",
       "      <td>1.140410</td>\n",
       "      <td>1.339415</td>\n",
       "      <td>1.166003</td>\n",
       "      <td>1.383280</td>\n",
       "    </tr>\n",
       "    <tr>\n",
       "      <th>4</th>\n",
       "      <td>ENSG00000008056.11</td>\n",
       "      <td>0.616848</td>\n",
       "      <td>0.930642</td>\n",
       "      <td>0.805799</td>\n",
       "      <td>0.406653</td>\n",
       "      <td>0.818248</td>\n",
       "      <td>1.069411</td>\n",
       "      <td>1.456535</td>\n",
       "      <td>0.636968</td>\n",
       "      <td>1.489832</td>\n",
       "      <td>...</td>\n",
       "      <td>0.768803</td>\n",
       "      <td>0.942788</td>\n",
       "      <td>0.632167</td>\n",
       "      <td>0.770792</td>\n",
       "      <td>0.332693</td>\n",
       "      <td>0.903016</td>\n",
       "      <td>0.513887</td>\n",
       "      <td>0.882771</td>\n",
       "      <td>0.708532</td>\n",
       "      <td>0.921185</td>\n",
       "    </tr>\n",
       "    <tr>\n",
       "      <th>5</th>\n",
       "      <td>ENSG00000008300.13</td>\n",
       "      <td>2.269243</td>\n",
       "      <td>4.625119</td>\n",
       "      <td>4.266596</td>\n",
       "      <td>2.112571</td>\n",
       "      <td>4.399544</td>\n",
       "      <td>2.544419</td>\n",
       "      <td>4.387980</td>\n",
       "      <td>2.590896</td>\n",
       "      <td>2.206995</td>\n",
       "      <td>...</td>\n",
       "      <td>1.958884</td>\n",
       "      <td>3.042743</td>\n",
       "      <td>1.595590</td>\n",
       "      <td>1.424401</td>\n",
       "      <td>1.076000</td>\n",
       "      <td>2.313313</td>\n",
       "      <td>2.310911</td>\n",
       "      <td>1.537237</td>\n",
       "      <td>1.724589</td>\n",
       "      <td>1.662055</td>\n",
       "    </tr>\n",
       "    <tr>\n",
       "      <th>6</th>\n",
       "      <td>ENSG00000008735.13</td>\n",
       "      <td>3.156520</td>\n",
       "      <td>1.116876</td>\n",
       "      <td>4.012673</td>\n",
       "      <td>3.952419</td>\n",
       "      <td>2.071070</td>\n",
       "      <td>3.804975</td>\n",
       "      <td>4.582100</td>\n",
       "      <td>4.345166</td>\n",
       "      <td>4.285967</td>\n",
       "      <td>...</td>\n",
       "      <td>2.656722</td>\n",
       "      <td>3.620861</td>\n",
       "      <td>1.284995</td>\n",
       "      <td>1.490973</td>\n",
       "      <td>0.975786</td>\n",
       "      <td>2.106311</td>\n",
       "      <td>3.160239</td>\n",
       "      <td>1.905464</td>\n",
       "      <td>2.582017</td>\n",
       "      <td>3.208147</td>\n",
       "    </tr>\n",
       "    <tr>\n",
       "      <th>7</th>\n",
       "      <td>ENSG00000010030.12</td>\n",
       "      <td>2.058907</td>\n",
       "      <td>2.002623</td>\n",
       "      <td>2.372862</td>\n",
       "      <td>1.562493</td>\n",
       "      <td>4.041772</td>\n",
       "      <td>2.288716</td>\n",
       "      <td>2.475236</td>\n",
       "      <td>2.199520</td>\n",
       "      <td>2.075609</td>\n",
       "      <td>...</td>\n",
       "      <td>1.542526</td>\n",
       "      <td>1.828175</td>\n",
       "      <td>0.956158</td>\n",
       "      <td>0.786023</td>\n",
       "      <td>0.791547</td>\n",
       "      <td>1.411889</td>\n",
       "      <td>1.240568</td>\n",
       "      <td>1.449291</td>\n",
       "      <td>1.307777</td>\n",
       "      <td>1.092196</td>\n",
       "    </tr>\n",
       "    <tr>\n",
       "      <th>8</th>\n",
       "      <td>ENSG00000011426.9</td>\n",
       "      <td>4.197554</td>\n",
       "      <td>3.239402</td>\n",
       "      <td>5.939832</td>\n",
       "      <td>3.976178</td>\n",
       "      <td>7.880999</td>\n",
       "      <td>4.221847</td>\n",
       "      <td>4.379369</td>\n",
       "      <td>4.915029</td>\n",
       "      <td>3.072982</td>\n",
       "      <td>...</td>\n",
       "      <td>1.925002</td>\n",
       "      <td>3.014996</td>\n",
       "      <td>1.770798</td>\n",
       "      <td>0.943734</td>\n",
       "      <td>2.039961</td>\n",
       "      <td>2.538182</td>\n",
       "      <td>1.885237</td>\n",
       "      <td>1.948871</td>\n",
       "      <td>1.851893</td>\n",
       "      <td>2.445858</td>\n",
       "    </tr>\n",
       "    <tr>\n",
       "      <th>9</th>\n",
       "      <td>ENSG00000013588.5</td>\n",
       "      <td>7.331730</td>\n",
       "      <td>6.356620</td>\n",
       "      <td>7.348432</td>\n",
       "      <td>7.486745</td>\n",
       "      <td>8.723849</td>\n",
       "      <td>7.474685</td>\n",
       "      <td>9.183424</td>\n",
       "      <td>7.801142</td>\n",
       "      <td>8.242934</td>\n",
       "      <td>...</td>\n",
       "      <td>5.513673</td>\n",
       "      <td>8.601471</td>\n",
       "      <td>4.609679</td>\n",
       "      <td>5.521795</td>\n",
       "      <td>5.429193</td>\n",
       "      <td>5.073789</td>\n",
       "      <td>5.699516</td>\n",
       "      <td>5.947639</td>\n",
       "      <td>6.681355</td>\n",
       "      <td>7.241604</td>\n",
       "    </tr>\n",
       "  </tbody>\n",
       "</table>\n",
       "<p>10 rows × 798 columns</p>\n",
       "</div>"
      ],
      "text/plain": [
       "             geneName  TCGA-A2-A0EM-01A-11R-A034-07  \\\n",
       "0       Disease_state                      1.000000   \n",
       "1  ENSG00000002726.18                      0.370249   \n",
       "2  ENSG00000004838.12                      4.770693   \n",
       "3   ENSG00000007968.6                      2.383093   \n",
       "4  ENSG00000008056.11                      0.616848   \n",
       "5  ENSG00000008300.13                      2.269243   \n",
       "6  ENSG00000008735.13                      3.156520   \n",
       "7  ENSG00000010030.12                      2.058907   \n",
       "8   ENSG00000011426.9                      4.197554   \n",
       "9   ENSG00000013588.5                      7.331730   \n",
       "\n",
       "   TCGA-A2-A0T6-01A-11R-A084-07  TCGA-BH-A0B7-01A-12R-A115-07  \\\n",
       "0                      1.000000                      1.000000   \n",
       "1                      1.365058                      1.775361   \n",
       "2                      4.030199                      3.727517   \n",
       "3                      1.125585                      3.341985   \n",
       "4                      0.930642                      0.805799   \n",
       "5                      4.625119                      4.266596   \n",
       "6                      1.116876                      4.012673   \n",
       "7                      2.002623                      2.372862   \n",
       "8                      3.239402                      5.939832   \n",
       "9                      6.356620                      7.348432   \n",
       "\n",
       "   TCGA-E2-A15E-06A-11R-A12D-07  TCGA-EW-A1P4-01A-21R-A144-07  \\\n",
       "0                      1.000000                      1.000000   \n",
       "1                      1.296699                      1.717995   \n",
       "2                      3.232234                      1.238163   \n",
       "3                      2.179594                      5.156368   \n",
       "4                      0.406653                      0.818248   \n",
       "5                      2.112571                      4.399544   \n",
       "6                      3.952419                      2.071070   \n",
       "7                      1.562493                      4.041772   \n",
       "8                      3.976178                      7.880999   \n",
       "9                      7.486745                      8.723849   \n",
       "\n",
       "   TCGA-E2-A3DX-01A-21R-A213-07  TCGA-E2-A153-01A-12R-A12D-07  \\\n",
       "0                      1.000000                      1.000000   \n",
       "1                      0.318669                      0.377462   \n",
       "2                      3.955585                      4.509768   \n",
       "3                      1.846146                      0.961257   \n",
       "4                      1.069411                      1.456535   \n",
       "5                      2.544419                      4.387980   \n",
       "6                      3.804975                      4.582100   \n",
       "7                      2.288716                      2.475236   \n",
       "8                      4.221847                      4.379369   \n",
       "9                      7.474685                      9.183424   \n",
       "\n",
       "   TCGA-E2-A14Q-01A-11R-A12D-07  TCGA-A2-A0CZ-01A-11R-A034-07  ...  \\\n",
       "0                      1.000000                      1.000000  ...   \n",
       "1                      0.214963                      0.644008  ...   \n",
       "2                      5.647388                      0.587249  ...   \n",
       "3                      2.594389                      1.167293  ...   \n",
       "4                      0.636968                      1.489832  ...   \n",
       "5                      2.590896                      2.206995  ...   \n",
       "6                      4.345166                      4.285967  ...   \n",
       "7                      2.199520                      2.075609  ...   \n",
       "8                      4.915029                      3.072982  ...   \n",
       "9                      7.801142                      8.242934  ...   \n",
       "\n",
       "   TCGA-BH-A0AY-11A-23R-A089-07  TCGA-BH-A0DZ-11A-22R-A089-07  \\\n",
       "0                      0.000000                      0.000000   \n",
       "1                      0.239368                      1.042361   \n",
       "2                      2.725260                      3.429190   \n",
       "3                      1.310282                      2.415891   \n",
       "4                      0.768803                      0.942788   \n",
       "5                      1.958884                      3.042743   \n",
       "6                      2.656722                      3.620861   \n",
       "7                      1.542526                      1.828175   \n",
       "8                      1.925002                      3.014996   \n",
       "9                      5.513673                      8.601471   \n",
       "\n",
       "   TCGA-E9-A1R7-11A-42R-A14M-07  TCGA-A7-A13G-11A-51R-A13Q-07  \\\n",
       "0                      0.000000                      0.000000   \n",
       "1                      0.399763                      0.025890   \n",
       "2                      0.696746                      0.520637   \n",
       "3                      0.929533                      0.445893   \n",
       "4                      0.632167                      0.770792   \n",
       "5                      1.595590                      1.424401   \n",
       "6                      1.284995                      1.490973   \n",
       "7                      0.956158                      0.786023   \n",
       "8                      1.770798                      0.943734   \n",
       "9                      4.609679                      5.521795   \n",
       "\n",
       "   TCGA-A7-A0D9-11A-53R-A089-07  TCGA-BH-A0C3-11A-23R-A12P-07  \\\n",
       "0                      0.000000                      0.000000   \n",
       "1                      1.009970                      0.396546   \n",
       "2                      0.710716                      2.266653   \n",
       "3                      0.534051                      2.622123   \n",
       "4                      0.332693                      0.903016   \n",
       "5                      1.076000                      2.313313   \n",
       "6                      0.975786                      2.106311   \n",
       "7                      0.791547                      1.411889   \n",
       "8                      2.039961                      2.538182   \n",
       "9                      5.429193                      5.073789   \n",
       "\n",
       "   TCGA-BH-A0H5-11A-62R-A115-07  TCGA-AC-A23H-11A-12R-A157-07  \\\n",
       "0                      0.000000                      0.000000   \n",
       "1                      0.481502                      0.425767   \n",
       "2                      1.795877                      0.990555   \n",
       "3                      1.140410                      1.339415   \n",
       "4                      0.513887                      0.882771   \n",
       "5                      2.310911                      1.537237   \n",
       "6                      3.160239                      1.905464   \n",
       "7                      1.240568                      1.449291   \n",
       "8                      1.885237                      1.948871   \n",
       "9                      5.699516                      5.947639   \n",
       "\n",
       "   TCGA-BH-A1F2-11A-32R-A13Q-07  TCGA-A7-A0DC-11A-41R-A089-07  \n",
       "0                      0.000000                      0.000000  \n",
       "1                      0.356691                      0.353923  \n",
       "2                      1.118175                      1.606685  \n",
       "3                      1.166003                      1.383280  \n",
       "4                      0.708532                      0.921185  \n",
       "5                      1.724589                      1.662055  \n",
       "6                      2.582017                      3.208147  \n",
       "7                      1.307777                      1.092196  \n",
       "8                      1.851893                      2.445858  \n",
       "9                      6.681355                      7.241604  \n",
       "\n",
       "[10 rows x 798 columns]"
      ]
     },
     "execution_count": 11,
     "metadata": {},
     "output_type": "execute_result"
    }
   ],
   "source": [
    "data = pd.read_csv(\"log2_Normalized_DEG_p0.001_FC2.csv\")\n",
    "print(\"original data type:\", data.shape) #（809，798） 808 genes, 797samples.\n",
    "\n",
    "# remove gene name\n",
    "data_without_geneName = data.drop([\"geneName\"], axis=1)\n",
    "data_without_geneName.head(10)\n",
    "print(\"shape of data_without_geneName\", data_without_geneName.shape)\n",
    "\n",
    "# transpose\n",
    "data_transpose = data_without_geneName.T\n",
    "# data_transpose.head(10)\n",
    "print(\"shape of data_transpose\", data_transpose.shape)\n",
    "\n",
    "# get label y:\n",
    "y_pre = data_transpose[0]\n",
    "y = y_pre.values\n",
    "print(\"shape of y\", y.shape)\n",
    "\n",
    "# get x\n",
    "x = data_transpose.drop([0], axis=1)\n",
    "print(\"shape of x\", x.shape)\n",
    "x.head(10)\n",
    "\n",
    "x_train, x_test, y_train, y_test = generate_training_testing_set(x, y)\n",
    "print(\"shape of x_train\", x_train.shape)\n",
    "print(\"shape of y_train\", y_train.shape)\n",
    "\n",
    "data.head(10)"
   ]
  },
  {
   "cell_type": "code",
   "execution_count": 12,
   "id": "fd6500bc",
   "metadata": {},
   "outputs": [
    {
     "data": {
      "image/png": "[encoded data removed]",
      "text/plain": [
       "<Figure size 432x288 with 1 Axes>"
      ]
     },
     "metadata": {
      "needs_background": "light"
     },
     "output_type": "display_data"
    },
    {
     "name": "stdout",
     "output_type": "stream",
     "text": [
      "correct [[1.]] predict [[1.]]\n",
      "correct [[1.]] predict [[1.]]\n",
      "correct [[1.]] predict [[0.00332731]]\n",
      "correct [[1.]] predict [[0.99999998]]\n",
      "correct [[1.]] predict [[1.]]\n",
      "correct [[1.]] predict [[1.]]\n",
      "correct [[1.]] predict [[0.99999999]]\n",
      "correct [[1.]] predict [[0.99999761]]\n",
      "correct [[1.]] predict [[1.]]\n",
      "correct [[1.]] predict [[1.]]\n",
      "correct [[1.]] predict [[0.99976504]]\n",
      "correct [[1.]] predict [[1.]]\n",
      "correct [[1.]] predict [[1.]]\n",
      "correct [[1.]] predict [[1.]]\n",
      "correct [[1.]] predict [[3.45613919e-06]]\n",
      "correct [[1.]] predict [[0.99999999]]\n",
      "correct [[1.]] predict [[1.]]\n",
      "correct [[1.]] predict [[1.]]\n",
      "correct [[1.]] predict [[1.]]\n",
      "correct [[1.]] predict [[1.]]\n",
      "correct [[1.]] predict [[1.]]\n",
      "correct [[1.]] predict [[1.]]\n",
      "correct [[1.]] predict [[1.]]\n",
      "correct [[0.]] predict [[0.00019728]]\n",
      "correct [[1.]] predict [[0.99999998]]\n",
      "correct [[1.]] predict [[1.]]\n",
      "correct [[1.]] predict [[1.]]\n",
      "correct [[1.]] predict [[1.]]\n",
      "correct [[0.]] predict [[8.35255528e-07]]\n",
      "correct [[1.]] predict [[1.]]\n",
      "correct [[1.]] predict [[1.]]\n",
      "correct [[1.]] predict [[0.99998194]]\n",
      "correct [[1.]] predict [[1.]]\n",
      "correct [[1.]] predict [[0.99960118]]\n",
      "correct [[1.]] predict [[1.]]\n",
      "correct [[1.]] predict [[0.99999762]]\n",
      "correct [[1.]] predict [[1.]]\n",
      "correct [[1.]] predict [[1.]]\n",
      "correct [[0.]] predict [[0.00011071]]\n",
      "correct [[0.]] predict [[0.0002862]]\n",
      "correct [[1.]] predict [[0.9999992]]\n",
      "correct [[1.]] predict [[1.]]\n",
      "correct [[1.]] predict [[0.99999948]]\n",
      "correct [[1.]] predict [[1.]]\n",
      "correct [[1.]] predict [[1.]]\n",
      "correct [[1.]] predict [[1.]]\n",
      "correct [[1.]] predict [[0.99999993]]\n",
      "correct [[1.]] predict [[0.99999004]]\n",
      "correct [[1.]] predict [[1.]]\n",
      "correct [[1.]] predict [[0.99999483]]\n",
      "correct [[1.]] predict [[0.99999997]]\n",
      "correct [[1.]] predict [[1.]]\n",
      "correct [[0.]] predict [[3.77817998e-05]]\n",
      "correct [[1.]] predict [[1.]]\n",
      "correct [[1.]] predict [[1.]]\n",
      "correct [[1.]] predict [[1.]]\n",
      "correct [[1.]] predict [[0.99999998]]\n",
      "correct [[1.]] predict [[1.]]\n",
      "correct [[1.]] predict [[1.]]\n",
      "correct [[1.]] predict [[0.9994519]]\n",
      "correct [[1.]] predict [[1.]]\n",
      "correct [[0.]] predict [[2.32346476e-07]]\n",
      "correct [[1.]] predict [[0.61271769]]\n",
      "correct [[1.]] predict [[1.]]\n",
      "correct [[1.]] predict [[1.]]\n",
      "correct [[1.]] predict [[1.]]\n",
      "correct [[1.]] predict [[0.99999409]]\n",
      "correct [[0.]] predict [[3.50965585e-09]]\n",
      "correct [[1.]] predict [[0.99999847]]\n",
      "correct [[1.]] predict [[1.]]\n",
      "correct [[1.]] predict [[1.]]\n",
      "correct [[1.]] predict [[1.]]\n",
      "correct [[0.]] predict [[1.44412851e-05]]\n",
      "correct [[1.]] predict [[0.99999997]]\n",
      "correct [[1.]] predict [[1.]]\n",
      "correct [[1.]] predict [[1.]]\n",
      "correct [[1.]] predict [[0.99998794]]\n",
      "correct [[1.]] predict [[0.99999875]]\n",
      "correct [[1.]] predict [[1.]]\n",
      "correct [[1.]] predict [[1.]]\n",
      "correct [[1.]] predict [[0.99999994]]\n",
      "correct [[1.]] predict [[0.99994523]]\n",
      "correct [[1.]] predict [[1.]]\n",
      "correct [[1.]] predict [[1.]]\n",
      "correct [[1.]] predict [[1.]]\n",
      "correct [[1.]] predict [[0.99999673]]\n",
      "correct [[0.]] predict [[4.46022265e-06]]\n",
      "correct [[1.]] predict [[1.]]\n",
      "correct [[1.]] predict [[1.]]\n",
      "correct [[1.]] predict [[1.]]\n",
      "correct [[1.]] predict [[1.]]\n",
      "correct [[0.]] predict [[0.00051952]]\n",
      "correct [[1.]] predict [[1.]]\n",
      "correct [[1.]] predict [[1.]]\n",
      "correct [[1.]] predict [[1.]]\n",
      "correct [[1.]] predict [[0.99999999]]\n",
      "correct [[0.]] predict [[0.00417429]]\n",
      "correct [[0.]] predict [[2.16149122e-05]]\n",
      "correct [[1.]] predict [[1.]]\n",
      "correct [[0.]] predict [[0.04255496]]\n",
      "correct [[1.]] predict [[0.99999174]]\n",
      "correct [[1.]] predict [[1.]]\n",
      "correct [[1.]] predict [[1.]]\n",
      "correct [[1.]] predict [[0.99999649]]\n",
      "correct [[1.]] predict [[0.99999997]]\n",
      "correct [[1.]] predict [[1.]]\n",
      "correct [[1.]] predict [[1.]]\n",
      "correct [[0.]] predict [[1.01032672e-06]]\n",
      "correct [[1.]] predict [[1.]]\n",
      "correct [[1.]] predict [[0.99999883]]\n",
      "correct [[1.]] predict [[0.99999972]]\n",
      "correct [[1.]] predict [[1.]]\n",
      "correct [[1.]] predict [[1.]]\n",
      "correct [[1.]] predict [[1.]]\n",
      "correct [[0.]] predict [[0.00023142]]\n",
      "correct [[1.]] predict [[1.]]\n",
      "correct [[1.]] predict [[1.]]\n",
      "correct [[0.]] predict [[7.96986273e-07]]\n",
      "correct [[1.]] predict [[0.99999999]]\n",
      "correct [[1.]] predict [[0.99999984]]\n",
      "correct [[1.]] predict [[1.]]\n",
      "correct [[1.]] predict [[1.]]\n",
      "correct [[1.]] predict [[1.]]\n",
      "correct [[0.]] predict [[0.00033983]]\n",
      "correct [[1.]] predict [[1.]]\n",
      "correct [[1.]] predict [[1.]]\n",
      "correct [[1.]] predict [[1.]]\n",
      "correct [[1.]] predict [[1.]]\n",
      "correct [[1.]] predict [[1.]]\n",
      "correct [[1.]] predict [[1.]]\n",
      "correct [[1.]] predict [[1.]]\n",
      "correct [[1.]] predict [[1.]]\n",
      "correct [[1.]] predict [[0.9971289]]\n",
      "correct [[1.]] predict [[1.]]\n",
      "correct [[1.]] predict [[1.]]\n",
      "correct [[1.]] predict [[0.99999999]]\n",
      "correct [[1.]] predict [[0.99985817]]\n",
      "correct [[1.]] predict [[1.]]\n",
      "correct [[1.]] predict [[1.]]\n",
      "correct [[1.]] predict [[1.]]\n",
      "correct [[1.]] predict [[0.99992864]]\n",
      "correct [[1.]] predict [[0.99999248]]\n",
      "correct [[1.]] predict [[1.]]\n",
      "correct [[1.]] predict [[1.]]\n",
      "correct [[1.]] predict [[1.]]\n",
      "correct [[1.]] predict [[1.]]\n",
      "correct [[1.]] predict [[0.99905394]]\n",
      "correct [[1.]] predict [[1.]]\n",
      "correct [[1.]] predict [[1.]]\n",
      "correct [[1.]] predict [[1.]]\n",
      "correct [[1.]] predict [[1.]]\n",
      "correct [[1.]] predict [[1.]]\n",
      "correct [[0.]] predict [[0.0001931]]\n",
      "correct [[0.]] predict [[3.14140494e-05]]\n",
      "correct [[1.]] predict [[1.]]\n",
      "correct [[1.]] predict [[0.99999999]]\n",
      "correct [[0.]] predict [[5.18519868e-06]]\n",
      "correct [[0.]] predict [[0.00400489]]\n",
      "correct [[1.]] predict [[0.99999999]]\n",
      "correct [[1.]] predict [[0.999984]]\n",
      "accuracy: 0.9875\n"
     ]
    }
   ],
   "source": [
    "l_list, w, w0 = linear_regression_model(x_train, y_train, 8000, penalty='L1', lamb=0.001)\n",
    "xMat = np.mat(x_test).T\n",
    "yMat = np.mat(y_test).T\n",
    "y_pred = sigmoid(np.dot(xMat, w) + w0)\n",
    "count = 0\n",
    "for i in range(160):\n",
    "    print(\"correct %s predict %s\" % (yMat[i],y_pred[i]))\n",
    "    if y_pred[i] >0.5:\n",
    "        y_predict_round = 1\n",
    "    else:\n",
    "        y_predict_round = 0\n",
    "    if yMat[i] == y_predict_round:\n",
    "        count += 1\n",
    "print(\"accuracy:\", count/160)\n",
    "# print('The accuracy of the Logistic Regression is:',metrics.accuracy_score(yMat,y_pred))\n",
    "# print(\"accuracy: \", accuracy_score(yMat, y_pred))"
   ]
  },
  {
   "cell_type": "code",
   "execution_count": 15,
   "id": "63e6a0e6",
   "metadata": {},
   "outputs": [],
   "source": [
    "def plot_w(w,x=[]):\n",
    "    print(w.shape)\n",
    "    print(len(w))\n",
    "    y = w.tolist()\n",
    "    print(len(y))\n",
    "    if len(x) == 0:\n",
    "#         x = range(1,len(w)+1)\n",
    "        x = range(len(w))\n",
    "    plt.xlabel('Gene Index')\n",
    "    plt.ylabel('Coefficient')\n",
    "    plt.scatter(x,y,s=1)\n",
    "    plt.savefig(\"coefficient.png\",dpi=500)\n",
    "    plt.show()"
   ]
  },
  {
   "cell_type": "code",
   "execution_count": 17,
   "id": "629ebaa7",
   "metadata": {},
   "outputs": [],
   "source": [
    "# plot_w(w,x=[])"
   ]
  },
  {
   "cell_type": "code",
   "execution_count": 18,
   "id": "4441113c",
   "metadata": {},
   "outputs": [
    {
     "name": "stdout",
     "output_type": "stream",
     "text": [
      "(160, 1)\n"
     ]
    }
   ],
   "source": [
    "print(yMat.shape)"
   ]
  },
  {
   "cell_type": "code",
   "execution_count": 19,
   "id": "8ed99aa1",
   "metadata": {},
   "outputs": [],
   "source": [
    "for weight in w:\n",
    "    if weight == 0:\n",
    "        print(weight)"
   ]
  },
  {
   "cell_type": "code",
   "execution_count": 20,
   "id": "076c0ba5",
   "metadata": {},
   "outputs": [
    {
     "name": "stdout",
     "output_type": "stream",
     "text": [
      "fpr is:  [0.         0.         0.         0.         0.14285714 0.14285714\n",
      " 0.76190476 0.76190476 1.        ]\n",
      "tpr is:  [0.         0.02158273 0.09352518 0.98561151 0.98561151 0.99280576\n",
      " 0.99280576 1.         1.        ]\n",
      "0.000000 0.000000 2.000000\n",
      "0.000000 0.021583 1.000000\n",
      "0.000000 0.093525 1.000000\n",
      "0.000000 0.985612 0.612718\n",
      "0.142857 0.985612 0.004005\n",
      "0.142857 0.992806 0.003327\n",
      "0.761905 0.992806 0.000004\n",
      "0.761905 1.000000 0.000003\n",
      "1.000000 1.000000 0.000000\n"
     ]
    }
   ],
   "source": [
    "fpr, tpr, thresholds = roc_curve(yMat, y_pred)\n",
    "print(\"fpr is: \", fpr)\n",
    "print(\"tpr is: \", tpr)\n",
    "for i, value in enumerate(thresholds):\n",
    "    print(\"%f %f %f\" % (fpr[i], tpr[i], value))"
   ]
  },
  {
   "cell_type": "code",
   "execution_count": 21,
   "id": "6baa351c",
   "metadata": {},
   "outputs": [],
   "source": [
    "roc_auc = auc(fpr, tpr)"
   ]
  },
  {
   "cell_type": "code",
   "execution_count": 22,
   "id": "af8aa430",
   "metadata": {},
   "outputs": [
    {
     "name": "stderr",
     "output_type": "stream",
     "text": [
      "/var/folders/75/w279mw753zx0klw_8d8t5cg40000gn/T/ipykernel_94576/3554460110.py:5: UserWarning: color is redundantly defined by the 'color' keyword argument and the fmt string \"r--\" (-> color='r'). The keyword argument will take precedence.\n",
      "  plt.plot([0, 1], [0, 1], 'r--',label='random guess',color='#FF85B3')\n"
     ]
    },
    {
     "data": {
      "image/png": "[encoded data removed]",
      "text/plain": [
       "<Figure size 432x288 with 1 Axes>"
      ]
     },
     "metadata": {
      "needs_background": "light"
     },
     "output_type": "display_data"
    }
   ],
   "source": [
    "draw_roc_curve(fpr, tpr)"
   ]
  },
  {
   "cell_type": "code",
   "execution_count": 23,
   "id": "9080f7bc",
   "metadata": {},
   "outputs": [],
   "source": [
    "def draw_tpr_1_fpr(fpr, tpr):\n",
    "    i = np.arange(len(tpr)) # index for df\n",
    "    roc = pd.DataFrame({'fpr' : pd.Series(fpr, index=i),'tpr' : pd.Series(tpr, index = i), '1-fpr' : pd.Series(1-fpr, index = i), 'tf' : pd.Series(tpr - (1-fpr), index = i), 'thresholds' : pd.Series(thresholds, index = i)})\n",
    "    roc.iloc[(roc.tf-0).abs().argsort()[:1]]\n",
    "    print(roc)\n",
    "    # Plot tpr vs 1-fpr\n",
    "    fig, ax = pl.subplots()\n",
    "#     fig = plt.figure(figsize=(10.20,5.80))\n",
    "    pl.plot(roc['tpr'],label='true positive rate',color='#9900F0')\n",
    "    pl.plot(roc['1-fpr'], color ='#FF85B3', label='1 - false positive rate')\n",
    "    pl.xlabel('1-False Positive Rate')\n",
    "    pl.ylabel('True Positive Rate')\n",
    "    pl.title('Receiver operating characteristic')\n",
    "    pl.legend()\n",
    "    plt.savefig('tprfpr.png', dpi = 300)\n",
    "    \n",
    "    ax.set_xticklabels([])"
   ]
  },
  {
   "cell_type": "code",
   "execution_count": 24,
   "id": "96b4235b",
   "metadata": {},
   "outputs": [
    {
     "name": "stdout",
     "output_type": "stream",
     "text": [
      "        fpr       tpr     1-fpr        tf    thresholds\n",
      "0  0.000000  0.000000  1.000000 -1.000000  2.000000e+00\n",
      "1  0.000000  0.021583  1.000000 -0.978417  1.000000e+00\n",
      "2  0.000000  0.093525  1.000000 -0.906475  1.000000e+00\n",
      "3  0.000000  0.985612  1.000000 -0.014388  6.127177e-01\n",
      "4  0.142857  0.985612  0.857143  0.128469  4.004885e-03\n",
      "5  0.142857  0.992806  0.857143  0.135663  3.327310e-03\n",
      "6  0.761905  0.992806  0.238095  0.754711  4.460223e-06\n",
      "7  0.761905  1.000000  0.238095  0.761905  3.456139e-06\n",
      "8  1.000000  1.000000  0.000000  1.000000  3.509656e-09\n"
     ]
    },
    {
     "data": {
      "image/png": "[encoded data removed]",
      "text/plain": [
       "<Figure size 432x288 with 1 Axes>"
      ]
     },
     "metadata": {
      "needs_background": "light"
     },
     "output_type": "display_data"
    }
   ],
   "source": [
    "draw_tpr_1_fpr(fpr, tpr)"
   ]
  },
  {
   "cell_type": "code",
   "execution_count": 25,
   "id": "99180414",
   "metadata": {},
   "outputs": [
    {
     "name": "stdout",
     "output_type": "stream",
     "text": [
      "(1, 808)\n",
      "weigt 453: [[0.27065024]]; rank: [[788]]\n",
      "weigt 357: [[0.27175862]]; rank: [[789]]\n",
      "weigt 545: [[0.27574646]]; rank: [[790]]\n",
      "weigt 399: [[0.27696207]]; rank: [[791]]\n",
      "weigt 609: [[0.28862112]]; rank: [[792]]\n",
      "weigt 759: [[0.29354227]]; rank: [[793]]\n",
      "weigt 181: [[0.29406843]]; rank: [[794]]\n",
      "weigt 396: [[0.2969264]]; rank: [[795]]\n",
      "weigt 765: [[0.30323989]]; rank: [[796]]\n",
      "weigt 206: [[0.30526338]]; rank: [[797]]\n",
      "weigt 74: [[0.31894455]]; rank: [[798]]\n",
      "weigt 298: [[0.32282714]]; rank: [[799]]\n",
      "weigt 454: [[0.35264434]]; rank: [[800]]\n",
      "weigt 342: [[0.35296688]]; rank: [[801]]\n",
      "weigt 518: [[0.36852547]]; rank: [[802]]\n",
      "weigt 393: [[0.36984796]]; rank: [[803]]\n",
      "weigt 703: [[0.38594344]]; rank: [[804]]\n",
      "weigt 685: [[0.44248071]]; rank: [[805]]\n",
      "weigt 675: [[0.50144938]]; rank: [[806]]\n",
      "weigt 191: [[0.60715111]]; rank: [[807]]\n",
      "[453, 357, 545, 399, 609, 759, 181, 396, 765, 206, 74, 298, 454, 342, 518, 393, 703, 685, 675, 191]\n"
     ]
    }
   ],
   "source": [
    "#get the index of the \n",
    "w_line = w.T\n",
    "print(w_line.shape)\n",
    "order = w_line.argsort()\n",
    "# print(temp.shape)\n",
    "ranks = order.argsort()\n",
    "\n",
    "\n",
    "idx_list = []\n",
    "for rank in range(788,808):\n",
    "# for rank in range(4479,4509):\n",
    "    for idx in range(808):\n",
    "        if ranks.T[idx] == rank:\n",
    "            idx_list.append(idx)\n",
    "            print(\"weigt %s: %s; rank: %s\" % (idx, w[idx], ranks.T[idx]))\n",
    "print(idx_list)"
   ]
  },
  {
   "cell_type": "code",
   "execution_count": 26,
   "id": "de5206e4",
   "metadata": {},
   "outputs": [
    {
     "name": "stdout",
     "output_type": "stream",
     "text": [
      "20\n",
      "ENSG00000170369.3\n",
      "ENSG00000159212.11\n",
      "ENSG00000183813.6\n",
      "ENSG00000165061.13\n",
      "ENSG00000197753.8\n",
      "ENSG00000261742.4\n",
      "ENSG00000122584.11\n",
      "ENSG00000164756.11\n",
      "ENSG00000264589.1\n",
      "ENSG00000125869.8\n",
      "ENSG00000100362.11\n",
      "ENSG00000144045.12\n",
      "ENSG00000170373.7\n",
      "ENSG00000155886.10\n",
      "ENSG00000179546.4\n",
      "ENSG00000164287.11\n",
      "ENSG00000235978.5\n",
      "ENSG00000231574.4\n",
      "ENSG00000228221.4\n",
      "ENSG00000123500.8\n"
     ]
    }
   ],
   "source": [
    "#extract top 20 genes\n",
    "\n",
    "print(len(idx_list))\n",
    "gene_name_list = list(data['geneName'])\n",
    "gene_name_list = gene_name_list[1:]\n",
    "# print(gene_name_list)\n",
    "top_20_gene_list = []\n",
    "for idx in idx_list:\n",
    "    top_20_gene_list.append(gene_name_list[idx])\n",
    "for gene in top_20_gene_list:\n",
    "    print(gene)"
   ]
  },
  {
   "cell_type": "code",
   "execution_count": 27,
   "id": "cc2c7bbb",
   "metadata": {},
   "outputs": [
    {
     "name": "stdout",
     "output_type": "stream",
     "text": [
      "0.6127176937805122\n"
     ]
    }
   ],
   "source": [
    "optimal_idx = np.argmax(tpr - fpr)\n",
    "optimal_threshold = thresholds[optimal_idx]\n",
    "print(optimal_threshold)"
   ]
  },
  {
   "cell_type": "code",
   "execution_count": 32,
   "id": "3dea429f",
   "metadata": {},
   "outputs": [],
   "source": [
    "# weight_larger_than_1 = []\n",
    "# for weight in w:\n",
    "#     if weight > 0:\n",
    "#         weight_larger_than_1.append(weight)\n",
    "# print(len(weight_larger_than_1))"
   ]
  },
  {
   "cell_type": "code",
   "execution_count": 33,
   "id": "6049b96b",
   "metadata": {},
   "outputs": [],
   "source": [
    "# gene_name_list_larger_1 = []\n",
    "# for idx in idx_list_larger_1:\n",
    "#     gene_name_list_larger_1.append(gene_name_list[idx])\n",
    "# for gene in gene_name_list_larger_1:\n",
    "#     print(gene)"
   ]
  },
  {
   "cell_type": "code",
   "execution_count": 38,
   "id": "70238ee5",
   "metadata": {},
   "outputs": [],
   "source": [
    "# from sklearn.linear_model import LogisticRegression\n",
    "# lr_package = LogisticRegression(C=1,penalty=\"l1\",max_iter=10000,solver='liblinear')\n",
    "# clf_l1_LR = lr_package.fit(np.mat(x_train).T,np.mat(y_train).T)\n",
    "# coef_l1_LR = clf_l1_LR.coef_.ravel()\n",
    "# print(\"Test Accuracy {}\".format(lr_package.score(x_test.T,y_test.T)))"
   ]
  },
  {
   "cell_type": "code",
   "execution_count": 39,
   "id": "4dc14205",
   "metadata": {},
   "outputs": [],
   "source": [
    "# for coef in coef_l1_LR:\n",
    "#     print(coef)"
   ]
  },
  {
   "cell_type": "code",
   "execution_count": 40,
   "id": "3a006905",
   "metadata": {},
   "outputs": [],
   "source": [
    "# print(np.mat(x_train).T.shape[0])"
   ]
  },
  {
   "cell_type": "code",
   "execution_count": 41,
   "id": "d2926a52",
   "metadata": {},
   "outputs": [],
   "source": [
    "def draw_confusion_matrix(fig_idx,y_pred,yMat):\n",
    "    print(\"y_pred.shape\\n\",y_pred.shape)\n",
    "    print(\"yMat.shape\\n\",yMat.shape)\n",
    "    y_pred_list = []\n",
    "    yMat_list =[]\n",
    "    for i in range(y_pred.shape[0]):\n",
    "#             print(\"%s: y_pred: %s, y_test: %s\" %(i, y_pred[i], yMat[i]))\n",
    "            if y_pred[i] >0.5:\n",
    "                y_pred_list.append(1) \n",
    "            else:\n",
    "                y_pred_list.append(0) \n",
    "            yMat_list.append(int(yMat[i]))\n",
    "    print(\"y_pred_list\", len(y_pred_list))\n",
    "    print(\"yMat_list\", len(yMat_list))\n",
    "    confusionMatrix = confusion_matrix(yMat_list,y_pred_list)\n",
    "    print(\"confusionMatrix\\n\",confusionMatrix)\n",
    "    print(\"confusionMatrix shape\", confusionMatrix.shape)\n",
    "    \n",
    "    TN = confusionMatrix[0][0]\n",
    "    TP = confusionMatrix[1][1]\n",
    "    FP = confusionMatrix[0][1]\n",
    "    FN = confusionMatrix[1][0]\n",
    "    print(TN,TP,FP,FN)\n",
    "\n",
    "    precision = TP/(TP+FP)\n",
    "    recall = TP/(TP+FN)\n",
    "    F1 = 2 * (precision * recall) / (precision + recall)\n",
    "    \n",
    "    print(\"precision\", precision)\n",
    "    print(\"recall\", recall)\n",
    "    print(\"F1\", F1)\n",
    "    \n",
    "    plt.figure(figsize=(8,8))\n",
    "    ax = sns.heatmap(confusionMatrix, annot=True, cmap='Reds',fmt='g')\n",
    "    plt.title('confusion matrix')\n",
    "    figname = 'confusion_matrix'+str(fig_idx)+'.png'\n",
    "    plt.savefig(figname,dpi=500)\n",
    "    plt.show()"
   ]
  },
  {
   "cell_type": "code",
   "execution_count": 42,
   "id": "4a07885e",
   "metadata": {},
   "outputs": [],
   "source": [
    "#5-fold cross validation\n",
    "def five_fold_cross_validation(X, Y):\n",
    "    plt.figure()\n",
    "    tprs=[]\n",
    "    aucs=[]\n",
    "    mean_fpr=np.linspace(0,1,100)\n",
    "    fig_idx=0\n",
    "    KF=KFold(n_splits=5,random_state=42,shuffle=True)\n",
    "    plt.figure()\n",
    "    fig_info = []#a list of list, [fpr,tpr,roc_auc]\n",
    "#     KF=KFold(n_splits=5)\n",
    "    for train_index,test_index in KF.split(X):\n",
    "#         print(\"train_index\", train_index)\n",
    "#         print(\"test_index\", test_index)\n",
    "#         print(\"x[0]\\n\", X[0])\n",
    "        accuracy = 0\n",
    "        count = 0\n",
    "        print(\"fig_idx\\n\", fig_idx)\n",
    "        \n",
    "        X_train,X_test=X[train_index].T,X[test_index].T\n",
    "        print(\"X_train shape\", X_train.shape)\n",
    "        print(\"X_test shape\", X_test.shape)\n",
    "        Y_train,Y_test=Y[train_index],Y[test_index]\n",
    "        print(\"Y_train shape\", Y_train.shape)\n",
    "        print(\"Y_test shape\", Y_test.shape)\n",
    "        _, w, w0 = linear_regression_model(X_train, Y_train, 2000, penalty='L2', lamb=0.001)\n",
    "        \n",
    "        y_pred = sigmoid(np.dot(np.mat(X_test).T, w) + w0)\n",
    "        yMat = np.mat(Y_test).T\n",
    "        draw_confusion_matrix(fig_idx,y_pred,yMat)\n",
    "#         print(\"y_pred.shape[0]\", y_pred.shape[0])\n",
    "        for i in range(y_pred.shape[0]):\n",
    "#             print(\"%s: y_pred: %s, y_test: %s\" %(i, y_pred[i], yMat[i]))\n",
    "            if y_pred[i] >0.5:\n",
    "                y_predict_round = 1\n",
    "            else:\n",
    "                y_predict_round = 0\n",
    "            if yMat[i] == y_predict_round:\n",
    "                count += 1\n",
    "        print(\"accuracy:\", count/y_pred.shape[0])\n",
    "        \n",
    "        \n",
    "        accuracy = count/y_pred.shape[0]\n",
    "        \n",
    "#         fpr,tpr,thresholds=roc_curve(Y_test[:,1],y_pred[:,1])\n",
    "        fpr,tpr,thresholds=roc_curve(yMat,y_pred)\n",
    "        tprs.append(np.interp(mean_fpr,fpr,tpr))\n",
    "        tprs[-1][0]=0.0\n",
    "        \n",
    "        #calculate auc\n",
    "        roc_auc=auc(fpr,tpr)\n",
    "        print(\"roc_auc\\n\", roc_auc)\n",
    "        aucs.append(roc_auc)\n",
    "        curr_info = [fpr,tpr,roc_auc]\n",
    "        fig_info.append(curr_info)\n",
    "        #draw roc curve\n",
    "#         plt.plot(fpr,tpr,lw=1,alpha=0.3,label='ROC fold %d(area=%0.2f)'% (fig_idx,roc_auc)) \n",
    "        fig_idx +=1\n",
    "\n",
    "    plt.plot(fig_info[0][0],fig_info[0][1],lw=1,alpha=0.3,label='ROC fold %d(area=%0.2f)'% (1,fig_info[0][2]))\n",
    "    plt.plot(fig_info[1][0],fig_info[1][1],lw=1,alpha=0.3,label='ROC fold %d(area=%0.2f)'% (2,fig_info[1][2]))\n",
    "    plt.plot(fig_info[2][0],fig_info[2][1],lw=1,alpha=0.3,label='ROC fold %d(area=%0.2f)'% (3,fig_info[2][2]))\n",
    "    plt.plot(fig_info[3][0],fig_info[3][1],lw=1,alpha=0.3,label='ROC fold %d(area=%0.2f)'% (4,fig_info[3][2]))\n",
    "    plt.plot(fig_info[4][0],fig_info[4][1],lw=1,alpha=0.3,label='ROC fold %d(area=%0.2f)'% (5,fig_info[4][2]))\n",
    "    \n",
    "    plt.plot([0,1],[0,1],linestyle='--',lw=2,color='r',label='Luck',alpha=.8)\n",
    "    mean_tpr=np.mean(tprs,axis=0)\n",
    "    mean_tpr[-1]=1.0\n",
    "    mean_auc=auc(mean_fpr,mean_tpr)#calculate average\n",
    "    std_auc=np.std(tprs,axis=0)\n",
    "    plt.plot(mean_fpr,mean_tpr,color='b',label=r'Mean ROC (area=%0.2f)'%mean_auc,lw=2,alpha=.8)\n",
    "    std_tpr=np.std(tprs,axis=0)\n",
    "    tprs_upper=np.minimum(mean_tpr+std_tpr,1)\n",
    "    tprs_lower=np.maximum(mean_tpr-std_tpr,0)\n",
    "    plt.fill_between(mean_tpr,tprs_lower,tprs_upper,color='gray',alpha=.2,label=r'$\\pm$ 1 std. dev.')\n",
    "    plt.legend(loc='lower right',fontsize='x-small')\n",
    "    plt.savefig('roc_5_fold.png', dpi = 600)\n",
    "    plt.show()   "
   ]
  },
  {
   "cell_type": "code",
   "execution_count": 43,
   "id": "fc1f9181",
   "metadata": {},
   "outputs": [
    {
     "name": "stdout",
     "output_type": "stream",
     "text": [
      "fig_idx\n",
      " 0\n",
      "X_train shape (808, 637)\n",
      "X_test shape (808, 160)\n",
      "Y_train shape (637,)\n",
      "Y_test shape (160,)\n"
     ]
    },
    {
     "data": {
      "text/plain": [
       "<Figure size 432x288 with 0 Axes>"
      ]
     },
     "metadata": {},
     "output_type": "display_data"
    },
    {
     "data": {
      "image/png": "[encoded data removed]",
      "text/plain": [
       "<Figure size 432x288 with 1 Axes>"
      ]
     },
     "metadata": {
      "needs_background": "light"
     },
     "output_type": "display_data"
    },
    {
     "name": "stdout",
     "output_type": "stream",
     "text": [
      "y_pred.shape\n",
      " (160, 1)\n",
      "yMat.shape\n",
      " (160, 1)\n",
      "y_pred_list 160\n",
      "yMat_list 160\n",
      "confusionMatrix\n",
      " [[ 20   1]\n",
      " [  2 137]]\n",
      "confusionMatrix shape (2, 2)\n",
      "20 137 1 2\n",
      "precision 0.9927536231884058\n",
      "recall 0.9856115107913669\n",
      "F1 0.9891696750902527\n"
     ]
    },
    {
     "data": {
      "image/png": "[encoded data removed]",
      "text/plain": [
       "<Figure size 576x576 with 2 Axes>"
      ]
     },
     "metadata": {
      "needs_background": "light"
     },
     "output_type": "display_data"
    },
    {
     "name": "stdout",
     "output_type": "stream",
     "text": [
      "accuracy: 0.98125\n",
      "roc_auc\n",
      " 0.9907502569373073\n",
      "fig_idx\n",
      " 1\n",
      "X_train shape (808, 637)\n",
      "X_test shape (808, 160)\n",
      "Y_train shape (637,)\n",
      "Y_test shape (160,)\n"
     ]
    },
    {
     "data": {
      "image/png": "[encoded data removed]",
      "text/plain": [
       "<Figure size 432x288 with 1 Axes>"
      ]
     },
     "metadata": {
      "needs_background": "light"
     },
     "output_type": "display_data"
    },
    {
     "name": "stdout",
     "output_type": "stream",
     "text": [
      "y_pred.shape\n",
      " (160, 1)\n",
      "yMat.shape\n",
      " (160, 1)\n",
      "y_pred_list 160\n",
      "yMat_list 160\n",
      "confusionMatrix\n",
      " [[ 17   0]\n",
      " [  1 142]]\n",
      "confusionMatrix shape (2, 2)\n",
      "17 142 0 1\n",
      "precision 1.0\n",
      "recall 0.993006993006993\n",
      "F1 0.9964912280701755\n"
     ]
    },
    {
     "data": {
      "image/png": "[encoded data removed]",
      "text/plain": [
       "<Figure size 576x576 with 2 Axes>"
      ]
     },
     "metadata": {
      "needs_background": "light"
     },
     "output_type": "display_data"
    },
    {
     "name": "stdout",
     "output_type": "stream",
     "text": [
      "accuracy: 0.99375\n",
      "roc_auc\n",
      " 0.9995886466474702\n",
      "fig_idx\n",
      " 2\n",
      "X_train shape (808, 638)\n",
      "X_test shape (808, 159)\n",
      "Y_train shape (638,)\n",
      "Y_test shape (159,)\n"
     ]
    },
    {
     "data": {
      "image/png": "[encoded data removed]",
      "text/plain": [
       "<Figure size 432x288 with 1 Axes>"
      ]
     },
     "metadata": {
      "needs_background": "light"
     },
     "output_type": "display_data"
    },
    {
     "name": "stdout",
     "output_type": "stream",
     "text": [
      "y_pred.shape\n",
      " (159, 1)\n",
      "yMat.shape\n",
      " (159, 1)\n",
      "y_pred_list 159\n",
      "yMat_list 159\n",
      "confusionMatrix\n",
      " [[ 14   1]\n",
      " [  1 143]]\n",
      "confusionMatrix shape (2, 2)\n",
      "14 143 1 1\n",
      "precision 0.9930555555555556\n",
      "recall 0.9930555555555556\n",
      "F1 0.9930555555555556\n"
     ]
    },
    {
     "data": {
      "image/png": "[encoded data removed]",
      "text/plain": [
       "<Figure size 576x576 with 2 Axes>"
      ]
     },
     "metadata": {
      "needs_background": "light"
     },
     "output_type": "display_data"
    },
    {
     "name": "stdout",
     "output_type": "stream",
     "text": [
      "accuracy: 0.9874213836477987\n",
      "roc_auc\n",
      " 0.9990740740740741\n",
      "fig_idx\n",
      " 3\n",
      "X_train shape (808, 638)\n",
      "X_test shape (808, 159)\n",
      "Y_train shape (638,)\n",
      "Y_test shape (159,)\n"
     ]
    },
    {
     "data": {
      "image/png": "[encoded data removed]",
      "text/plain": [
       "<Figure size 432x288 with 1 Axes>"
      ]
     },
     "metadata": {
      "needs_background": "light"
     },
     "output_type": "display_data"
    },
    {
     "name": "stdout",
     "output_type": "stream",
     "text": [
      "y_pred.shape\n",
      " (159, 1)\n",
      "yMat.shape\n",
      " (159, 1)\n",
      "y_pred_list 159\n",
      "yMat_list 159\n",
      "confusionMatrix\n",
      " [[ 17   6]\n",
      " [  0 136]]\n",
      "confusionMatrix shape (2, 2)\n",
      "17 136 6 0\n",
      "precision 0.9577464788732394\n",
      "recall 1.0\n",
      "F1 0.9784172661870503\n"
     ]
    },
    {
     "data": {
      "image/png": "[encoded data removed]",
      "text/plain": [
       "<Figure size 576x576 with 2 Axes>"
      ]
     },
     "metadata": {
      "needs_background": "light"
     },
     "output_type": "display_data"
    },
    {
     "name": "stdout",
     "output_type": "stream",
     "text": [
      "accuracy: 0.9622641509433962\n",
      "roc_auc\n",
      " 0.9565217391304348\n",
      "fig_idx\n",
      " 4\n",
      "X_train shape (808, 638)\n",
      "X_test shape (808, 159)\n",
      "Y_train shape (638,)\n",
      "Y_test shape (159,)\n"
     ]
    },
    {
     "data": {
      "image/png": "[encoded data removed]",
      "text/plain": [
       "<Figure size 432x288 with 1 Axes>"
      ]
     },
     "metadata": {
      "needs_background": "light"
     },
     "output_type": "display_data"
    },
    {
     "name": "stdout",
     "output_type": "stream",
     "text": [
      "y_pred.shape\n",
      " (159, 1)\n",
      "yMat.shape\n",
      " (159, 1)\n",
      "y_pred_list 159\n",
      "yMat_list 159\n",
      "confusionMatrix\n",
      " [[ 13   0]\n",
      " [  0 146]]\n",
      "confusionMatrix shape (2, 2)\n",
      "13 146 0 0\n",
      "precision 1.0\n",
      "recall 1.0\n",
      "F1 1.0\n"
     ]
    },
    {
     "data": {
      "image/png": "[encoded data removed]",
      "text/plain": [
       "<Figure size 576x576 with 2 Axes>"
      ]
     },
     "metadata": {
      "needs_background": "light"
     },
     "output_type": "display_data"
    },
    {
     "name": "stdout",
     "output_type": "stream",
     "text": [
      "accuracy: 1.0\n",
      "roc_auc\n",
      " 1.0\n"
     ]
    },
    {
     "data": {
      "image/png": "[encoded data removed]",
      "text/plain": [
       "<Figure size 432x288 with 1 Axes>"
      ]
     },
     "metadata": {
      "needs_background": "light"
     },
     "output_type": "display_data"
    }
   ],
   "source": [
    "# five_fold_cross_validation(x, y)\n",
    "five_fold_cross_validation(np.array(x), np.array(y))"
   ]
  },
  {
   "cell_type": "code",
   "execution_count": null,
   "id": "ba8f4d94",
   "metadata": {},
   "outputs": [],
   "source": []
  }
 ],
 "metadata": {
  "kernelspec": {
   "display_name": "Python 3 (ipykernel)",
   "language": "python",
   "name": "python3"
  },
  "language_info": {
   "codemirror_mode": {
    "name": "ipython",
    "version": 3
   },
   "file_extension": ".py",
   "mimetype": "text/x-python",
   "name": "python",
   "nbconvert_exporter": "python",
   "pygments_lexer": "ipython3",
   "version": "3.8.11"
  }
 },
 "nbformat": 4,
 "nbformat_minor": 5
}
