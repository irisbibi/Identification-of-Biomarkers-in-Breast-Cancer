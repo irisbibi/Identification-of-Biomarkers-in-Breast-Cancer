{
 "cells": [
  {
   "cell_type": "code",
   "execution_count": null,
   "metadata": {},
   "outputs": [],
   "source": [
    "import matplotlib.pyplot as plt\n",
    "from sklearn.cluster import KMeans\n",
    "from sklearn.metrics import silhouette_score\n",
    "from sklearn.preprocessing import StandardScaler\n",
    "from sklearn.cluster import DBSCAN\n",
    "from sklearn.metrics import adjusted_rand_score\n",
    "from sklearn.cluster import OPTICS\n",
    "from kneed import KneeLocator\n",
    "import pandas as pd\n",
    "import numpy as np\n",
    "import seaborn as sns\n",
    "from sklearn.decomposition import PCA"
   ]
  },
  {
   "cell_type": "code",
   "execution_count": null,
   "metadata": {},
   "outputs": [],
   "source": [
    "df = pd.read_csv(\"log2.csv\")"
   ]
  },
  {
   "cell_type": "code",
   "execution_count": null,
   "metadata": {},
   "outputs": [],
   "source": [
    "test = df.to_numpy()\n",
    "disease_state = test[0][1:]\n",
    "genename = test[:,0][1:]\n",
    "exp = test[1:,1:]"
   ]
  },
  {
   "cell_type": "code",
   "execution_count": null,
   "metadata": {},
   "outputs": [],
   "source": [
    "exp.shape"
   ]
  },
  {
   "cell_type": "code",
   "execution_count": null,
   "metadata": {},
   "outputs": [],
   "source": [
    "data = exp[:,disease_state==1]"
   ]
  },
  {
   "cell_type": "code",
   "execution_count": null,
   "metadata": {},
   "outputs": [],
   "source": [
    "data.shape"
   ]
  },
  {
   "cell_type": "code",
   "execution_count": null,
   "metadata": {},
   "outputs": [],
   "source": [
    "# Select appropriate number of clusters of K-means\n",
    "\n",
    "kmeans_kwargs = {\n",
    "\t\"init\": \"random\",\n",
    "\t\"n_init\": 10,\n",
    "\t\"max_iter\": 300,\n",
    "}\n",
    "\n",
    "# sse\n",
    "sse = []\n",
    "for k in range(1, 16):\n",
    "\tkmeans = KMeans(n_clusters=k, **kmeans_kwargs)\n",
    "\tkmeans.fit(data)\n",
    "\tsse.append(kmeans.inertia_)"
   ]
  },
  {
   "cell_type": "code",
   "execution_count": null,
   "metadata": {},
   "outputs": [],
   "source": [
    "plt.style.use(\"fivethirtyeight\")\n",
    "plt.figure(figsize=(15,10), dpi=500)\n",
    "plt.plot(range(1, 16), sse)\n",
    "plt.xticks(range(1, 16))\n",
    "plt.xlabel(\"Number of Clusters\")\n",
    "plt.ylabel(\"SSE\")\n",
    "plt.savefig(\"sse.png\")\n",
    "plt.close()"
   ]
  },
  {
   "cell_type": "code",
   "execution_count": null,
   "metadata": {},
   "outputs": [],
   "source": [
    "kl = KneeLocator(range(1,16), sse, curve=\"convex\", direction=\"decreasing\")\n",
    "kl.elbow"
   ]
  },
  {
   "cell_type": "code",
   "execution_count": null,
   "metadata": {},
   "outputs": [],
   "source": [
    "silhouette_coefficients = []\n",
    "\n",
    "for k in range(2, 16):\n",
    "   kmeans = KMeans(n_clusters=k, **kmeans_kwargs)\n",
    "   kmeans.fit(data)\n",
    "   score = silhouette_score(data, kmeans.labels_)\n",
    "   silhouette_coefficients.append(score)"
   ]
  },
  {
   "cell_type": "code",
   "execution_count": null,
   "metadata": {},
   "outputs": [],
   "source": [
    "silhouette_coefficients"
   ]
  },
  {
   "cell_type": "code",
   "execution_count": null,
   "metadata": {},
   "outputs": [],
   "source": [
    "plt.style.use(\"fivethirtyeight\")\n",
    "plt.figure(figsize=(15,10), dpi=500)\n",
    "plt.plot(range(2, 16), silhouette_coefficients)\n",
    "plt.xticks(range(2, 16))\n",
    "plt.xlabel(\"Number of Clusters\")\n",
    "plt.ylabel(\"Silhouette Coefficient\")\n",
    "plt.savefig(\"silhouette.png\")\n",
    "plt.close()"
   ]
  },
  {
   "cell_type": "code",
   "execution_count": null,
   "metadata": {},
   "outputs": [],
   "source": [
    "k = 7\n",
    "model = KMeans(n_clusters=k, random_state=0).fit(data)"
   ]
  },
  {
   "cell_type": "code",
   "execution_count": null,
   "metadata": {},
   "outputs": [],
   "source": [
    "for i in range(k):\n",
    "\tprint(sum(model.labels_==i))"
   ]
  },
  {
   "cell_type": "code",
   "execution_count": null,
   "metadata": {},
   "outputs": [],
   "source": [
    "pca = PCA(2)\n",
    "exp_trans = pca.fit_transform(data)"
   ]
  },
  {
   "cell_type": "code",
   "execution_count": null,
   "metadata": {},
   "outputs": [],
   "source": [
    "sns.scatterplot(exp_trans[:,0], exp_trans[:,1], hue=model.labels_, legend=False)\n",
    "plt.xlabel('PC1')\n",
    "plt.ylabel('PC2')\n",
    "plt.savefig(\"PCA_res.png\", dpi=500)\n"
   ]
  },
  {
   "cell_type": "code",
   "execution_count": null,
   "metadata": {},
   "outputs": [],
   "source": [
    "c_dict = []\n",
    "for i in range(k):\n",
    "\ttmp = data[model.labels_==i,:]\n",
    "\ttmp_corr = np.corrcoef(tmp.astype(float))\n",
    "\tc_dict.append(tmp_corr)"
   ]
  },
  {
   "cell_type": "code",
   "execution_count": null,
   "metadata": {},
   "outputs": [],
   "source": [
    "c_sum = []\n",
    "for i in range(k):\n",
    "\ttmp = c_dict[i]\n",
    "\ttotal = np.sum(tmp, axis=0)\n",
    "\tprint(total.shape)\n",
    "\tc_sum.append(total)\n",
    "\tplt.figure(figsize=(15,10), dpi=500)\n",
    "\tplt.scatter([i for i in range(len(total))], total, s=5)\n",
    "\tname = \"cluster_\" + str(i) + \".png\"\n",
    "\tplt.savefig(name)\n",
    "\tplt.close()"
   ]
  },
  {
   "cell_type": "code",
   "execution_count": null,
   "metadata": {},
   "outputs": [],
   "source": [
    "def hubgeneboundary(array):\n",
    "\tsorted_array = array[np.argsort(array)]\n",
    "\tn = len(array) // 10\n",
    "\treturn sorted_array[-n]"
   ]
  },
  {
   "cell_type": "code",
   "execution_count": null,
   "metadata": {},
   "outputs": [],
   "source": [
    "hub = []\n",
    "for i in range(k):\n",
    "\tindex = np.where(model.labels_==i)\n",
    "\tindex = index[0]\n",
    "\tprint(index)\n",
    "\tcoff = c_sum[i]\n",
    "\thub.append(index[coff>=hubgeneboundary(coff)])"
   ]
  },
  {
   "cell_type": "code",
   "execution_count": null,
   "metadata": {},
   "outputs": [],
   "source": [
    "gene = []\n",
    "for list in range(len(hub)):\n",
    "\ttmp = hub[list]\n",
    "\tfor i in range(len(tmp)):\n",
    "\t\te = tmp[i]\n",
    "\t\tgene.append(e)"
   ]
  },
  {
   "cell_type": "code",
   "execution_count": null,
   "metadata": {},
   "outputs": [],
   "source": [
    "out = np.sort(gene)\n",
    "print(out)\n",
    "print(genename[0:30])"
   ]
  },
  {
   "cell_type": "code",
   "execution_count": null,
   "metadata": {},
   "outputs": [],
   "source": [
    "res = genename[out]\n",
    "res = pd.DataFrame(res)\n",
    "res.to_csv(\"cluster_gene_k7.csv\")"
   ]
  },
  {
   "cell_type": "code",
   "execution_count": null,
   "metadata": {},
   "outputs": [],
   "source": [
    "optics = OPTICS(min_samples=10).fit(exp_trans)"
   ]
  },
  {
   "cell_type": "code",
   "execution_count": null,
   "metadata": {},
   "outputs": [],
   "source": [
    "for i in range(len(np.unique(optics.labels_))):\n",
    "\n",
    "\tprint(sum(optics.labels_==(i-1)))"
   ]
  }
 ],
 "metadata": {
  "interpreter": {
   "hash": "31f2aee4e71d21fbe5cf8b01ff0e069b9275f58929596ceb00d14d90e3e16cd6"
  },
  "kernelspec": {
   "display_name": "Python 3.8.9 64-bit",
   "language": "python",
   "name": "python3"
  },
  "language_info": {
   "codemirror_mode": {
    "name": "ipython",
    "version": 3
   },
   "file_extension": ".py",
   "mimetype": "text/x-python",
   "name": "python",
   "nbconvert_exporter": "python",
   "pygments_lexer": "ipython3",
   "version": "3.9.7"
  },
  "orig_nbformat": 4
 },
 "nbformat": 4,
 "nbformat_minor": 2
}
